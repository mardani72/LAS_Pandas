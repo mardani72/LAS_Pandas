{
 "cells": [
  {
   "cell_type": "markdown",
   "metadata": {},
   "source": [
    "#                        10 Steps in Pandas to Process LAS File and Plot"
   ]
  },
  {
   "cell_type": "markdown",
   "metadata": {},
   "source": [
    "The following list of steps I use most:<br>\n",
    "1) Reading File <br>\n",
    "2) Data Inspection<br>\n",
    "3) Column Selection<br>\n",
    "4) Missing Data<br>\n",
    "5) Dropping Rows<br>\n",
    "6) Statistics<br>\n",
    "7) Filtering<br>\n",
    "8) Adding Column<br>\n",
    "9) Indexing<br>\n",
    "10) Plotting<br>"
   ]
  },
  {
   "cell_type": "markdown",
   "metadata": {},
   "source": [
    "### 1) Reading File <br>"
   ]
  },
  {
   "cell_type": "code",
   "execution_count": 38,
   "metadata": {},
   "outputs": [],
   "source": [
    "# pip install lasio\n",
    "# pip install -r optional-packages.txt\n",
    "# pip install --upgrade lasio\n",
    "\n",
    "import lasio         #read LAS file data\n",
    "import pandas as pd\n",
    "import numpy as np\n",
    "import os"
   ]
  },
  {
   "cell_type": "code",
   "execution_count": 39,
   "metadata": {},
   "outputs": [],
   "source": [
    "las = lasio.read(r'1050383876.las')"
   ]
  },
  {
   "cell_type": "code",
   "execution_count": 40,
   "metadata": {},
   "outputs": [],
   "source": [
    "df = las.df()"
   ]
  },
  {
   "cell_type": "code",
   "execution_count": 41,
   "metadata": {},
   "outputs": [
    {
     "data": {
      "text/plain": [
       "[CurveItem(mnemonic=DEPT, unit=FT, value=0 000 00 00, descr=Depth, original_mnemonic=DEPT, data.shape=(7056,)),\n",
       " CurveItem(mnemonic=CNPOR, unit=PU, value=0, descr=CN Selected Porosity, original_mnemonic=CNPOR, data.shape=(7056,)),\n",
       " CurveItem(mnemonic=DCAL, unit=IN, value=0, descr=Caliper from Density Tool, original_mnemonic=DCAL, data.shape=(7056,)),\n",
       " CurveItem(mnemonic=DPOR, unit=PU, value=0, descr=Density Porosity, original_mnemonic=DPOR, data.shape=(7056,)),\n",
       " CurveItem(mnemonic=GR, unit=GAPI, value=0, descr=Gamma Ray, original_mnemonic=GR, data.shape=(7056,)),\n",
       " CurveItem(mnemonic=RHOB, unit=G/CC, value=0, descr=Bulk Density, original_mnemonic=RHOB, data.shape=(7056,)),\n",
       " CurveItem(mnemonic=RHOC, unit=G/CC, value=0, descr=Density Correction, original_mnemonic=RHOC, data.shape=(7056,)),\n",
       " CurveItem(mnemonic=RILD, unit=OHM-M, value=0, descr=DIL Deep Resistivity, original_mnemonic=RILD, data.shape=(7056,)),\n",
       " CurveItem(mnemonic=RILM, unit=OHM-M, value=0, descr=DIL Medium Resistivity, original_mnemonic=RILM, data.shape=(7056,)),\n",
       " CurveItem(mnemonic=RLL3, unit=OHM-M, value=0, descr=DIL Shallow Resistivity, original_mnemonic=RLL3, data.shape=(7056,)),\n",
       " CurveItem(mnemonic=RXORT, unit=, value=0, descr=Rxo / Rt, original_mnemonic=RXORT, data.shape=(7056,)),\n",
       " CurveItem(mnemonic=SP, unit=MV, value=0, descr=DIL Spontaneous Potential, original_mnemonic=SP, data.shape=(7056,)),\n",
       " CurveItem(mnemonic=MEL15, unit=OHM-M, value=0, descr=MICRO 1.5, original_mnemonic=MEL15, data.shape=(7056,)),\n",
       " CurveItem(mnemonic=MEL20, unit=OHM-M, value=0, descr=MICRO 2.O, original_mnemonic=MEL20, data.shape=(7056,)),\n",
       " CurveItem(mnemonic=DT, unit=USEC/FT, value=0, descr=DELTA TIME, original_mnemonic=DT, data.shape=(7056,)),\n",
       " CurveItem(mnemonic=ITT, unit=MSEC, value=0, descr=Integrated Travel Time Blips, original_mnemonic=ITT, data.shape=(7056,)),\n",
       " CurveItem(mnemonic=MELCAL, unit=IN, value=0, descr=MICRO CALIPER, original_mnemonic=MELCAL, data.shape=(7056,)),\n",
       " CurveItem(mnemonic=SPOR, unit=PU, value=0, descr=SONIC POROSITY, original_mnemonic=SPOR, data.shape=(7056,))]"
      ]
     },
     "execution_count": 41,
     "metadata": {},
     "output_type": "execute_result"
    }
   ],
   "source": [
    "las.curves"
   ]
  },
  {
   "cell_type": "markdown",
   "metadata": {},
   "source": [
    "### 2) Data Inspection <br>"
   ]
  },
  {
   "cell_type": "code",
   "execution_count": 42,
   "metadata": {},
   "outputs": [
    {
     "data": {
      "text/html": [
       "<div>\n",
       "<style scoped>\n",
       "    .dataframe tbody tr th:only-of-type {\n",
       "        vertical-align: middle;\n",
       "    }\n",
       "\n",
       "    .dataframe tbody tr th {\n",
       "        vertical-align: top;\n",
       "    }\n",
       "\n",
       "    .dataframe thead th {\n",
       "        text-align: right;\n",
       "    }\n",
       "</style>\n",
       "<table border=\"1\" class=\"dataframe\">\n",
       "  <thead>\n",
       "    <tr style=\"text-align: right;\">\n",
       "      <th></th>\n",
       "      <th>CNPOR</th>\n",
       "      <th>DCAL</th>\n",
       "      <th>DPOR</th>\n",
       "      <th>GR</th>\n",
       "      <th>RHOB</th>\n",
       "      <th>RHOC</th>\n",
       "      <th>RILD</th>\n",
       "      <th>RILM</th>\n",
       "      <th>RLL3</th>\n",
       "      <th>RXORT</th>\n",
       "      <th>SP</th>\n",
       "      <th>MEL15</th>\n",
       "      <th>MEL20</th>\n",
       "      <th>DT</th>\n",
       "      <th>ITT</th>\n",
       "      <th>MELCAL</th>\n",
       "      <th>SPOR</th>\n",
       "    </tr>\n",
       "    <tr>\n",
       "      <th>DEPT</th>\n",
       "      <th></th>\n",
       "      <th></th>\n",
       "      <th></th>\n",
       "      <th></th>\n",
       "      <th></th>\n",
       "      <th></th>\n",
       "      <th></th>\n",
       "      <th></th>\n",
       "      <th></th>\n",
       "      <th></th>\n",
       "      <th></th>\n",
       "      <th></th>\n",
       "      <th></th>\n",
       "      <th></th>\n",
       "      <th></th>\n",
       "      <th></th>\n",
       "      <th></th>\n",
       "    </tr>\n",
       "  </thead>\n",
       "  <tbody>\n",
       "    <tr>\n",
       "      <th>6.0</th>\n",
       "      <td>NaN</td>\n",
       "      <td>NaN</td>\n",
       "      <td>NaN</td>\n",
       "      <td>23.8362</td>\n",
       "      <td>NaN</td>\n",
       "      <td>NaN</td>\n",
       "      <td>NaN</td>\n",
       "      <td>NaN</td>\n",
       "      <td>NaN</td>\n",
       "      <td>NaN</td>\n",
       "      <td>NaN</td>\n",
       "      <td>NaN</td>\n",
       "      <td>NaN</td>\n",
       "      <td>NaN</td>\n",
       "      <td>NaN</td>\n",
       "      <td>NaN</td>\n",
       "      <td>NaN</td>\n",
       "    </tr>\n",
       "    <tr>\n",
       "      <th>6.5</th>\n",
       "      <td>NaN</td>\n",
       "      <td>NaN</td>\n",
       "      <td>NaN</td>\n",
       "      <td>28.8864</td>\n",
       "      <td>NaN</td>\n",
       "      <td>NaN</td>\n",
       "      <td>NaN</td>\n",
       "      <td>NaN</td>\n",
       "      <td>NaN</td>\n",
       "      <td>NaN</td>\n",
       "      <td>NaN</td>\n",
       "      <td>NaN</td>\n",
       "      <td>NaN</td>\n",
       "      <td>NaN</td>\n",
       "      <td>NaN</td>\n",
       "      <td>NaN</td>\n",
       "      <td>NaN</td>\n",
       "    </tr>\n",
       "    <tr>\n",
       "      <th>7.0</th>\n",
       "      <td>NaN</td>\n",
       "      <td>NaN</td>\n",
       "      <td>NaN</td>\n",
       "      <td>33.1935</td>\n",
       "      <td>NaN</td>\n",
       "      <td>NaN</td>\n",
       "      <td>NaN</td>\n",
       "      <td>NaN</td>\n",
       "      <td>NaN</td>\n",
       "      <td>NaN</td>\n",
       "      <td>NaN</td>\n",
       "      <td>NaN</td>\n",
       "      <td>NaN</td>\n",
       "      <td>NaN</td>\n",
       "      <td>NaN</td>\n",
       "      <td>NaN</td>\n",
       "      <td>NaN</td>\n",
       "    </tr>\n",
       "    <tr>\n",
       "      <th>7.5</th>\n",
       "      <td>NaN</td>\n",
       "      <td>NaN</td>\n",
       "      <td>NaN</td>\n",
       "      <td>34.6154</td>\n",
       "      <td>NaN</td>\n",
       "      <td>NaN</td>\n",
       "      <td>NaN</td>\n",
       "      <td>NaN</td>\n",
       "      <td>NaN</td>\n",
       "      <td>NaN</td>\n",
       "      <td>NaN</td>\n",
       "      <td>NaN</td>\n",
       "      <td>NaN</td>\n",
       "      <td>NaN</td>\n",
       "      <td>NaN</td>\n",
       "      <td>NaN</td>\n",
       "      <td>NaN</td>\n",
       "    </tr>\n",
       "    <tr>\n",
       "      <th>8.0</th>\n",
       "      <td>NaN</td>\n",
       "      <td>NaN</td>\n",
       "      <td>NaN</td>\n",
       "      <td>36.0153</td>\n",
       "      <td>NaN</td>\n",
       "      <td>NaN</td>\n",
       "      <td>NaN</td>\n",
       "      <td>NaN</td>\n",
       "      <td>NaN</td>\n",
       "      <td>NaN</td>\n",
       "      <td>NaN</td>\n",
       "      <td>NaN</td>\n",
       "      <td>NaN</td>\n",
       "      <td>NaN</td>\n",
       "      <td>NaN</td>\n",
       "      <td>NaN</td>\n",
       "      <td>NaN</td>\n",
       "    </tr>\n",
       "  </tbody>\n",
       "</table>\n",
       "</div>"
      ],
      "text/plain": [
       "      CNPOR  DCAL  DPOR       GR  RHOB  RHOC  RILD  RILM  RLL3  RXORT  SP  \\\n",
       "DEPT                                                                        \n",
       "6.0     NaN   NaN   NaN  23.8362   NaN   NaN   NaN   NaN   NaN    NaN NaN   \n",
       "6.5     NaN   NaN   NaN  28.8864   NaN   NaN   NaN   NaN   NaN    NaN NaN   \n",
       "7.0     NaN   NaN   NaN  33.1935   NaN   NaN   NaN   NaN   NaN    NaN NaN   \n",
       "7.5     NaN   NaN   NaN  34.6154   NaN   NaN   NaN   NaN   NaN    NaN NaN   \n",
       "8.0     NaN   NaN   NaN  36.0153   NaN   NaN   NaN   NaN   NaN    NaN NaN   \n",
       "\n",
       "      MEL15  MEL20  DT  ITT  MELCAL  SPOR  \n",
       "DEPT                                       \n",
       "6.0     NaN    NaN NaN  NaN     NaN   NaN  \n",
       "6.5     NaN    NaN NaN  NaN     NaN   NaN  \n",
       "7.0     NaN    NaN NaN  NaN     NaN   NaN  \n",
       "7.5     NaN    NaN NaN  NaN     NaN   NaN  \n",
       "8.0     NaN    NaN NaN  NaN     NaN   NaN  "
      ]
     },
     "execution_count": 42,
     "metadata": {},
     "output_type": "execute_result"
    }
   ],
   "source": [
    "df.head()"
   ]
  },
  {
   "cell_type": "code",
   "execution_count": 6,
   "metadata": {},
   "outputs": [
    {
     "data": {
      "text/plain": [
       "(7056, 17)"
      ]
     },
     "execution_count": 6,
     "metadata": {},
     "output_type": "execute_result"
    }
   ],
   "source": [
    "df.shape"
   ]
  },
  {
   "cell_type": "code",
   "execution_count": 7,
   "metadata": {},
   "outputs": [
    {
     "data": {
      "text/plain": [
       "Index(['CNPOR', 'DCAL', 'DPOR', 'GR', 'RHOB', 'RHOC', 'RILD', 'RILM', 'RLL3',\n",
       "       'RXORT', 'SP', 'MEL15', 'MEL20', 'DT', 'ITT', 'MELCAL', 'SPOR'],\n",
       "      dtype='object')"
      ]
     },
     "execution_count": 7,
     "metadata": {},
     "output_type": "execute_result"
    }
   ],
   "source": [
    "df.columns"
   ]
  },
  {
   "cell_type": "markdown",
   "metadata": {},
   "source": [
    "### 3) Column Selection"
   ]
  },
  {
   "cell_type": "code",
   "execution_count": 8,
   "metadata": {},
   "outputs": [],
   "source": [
    "df_selected = df[['CNPOR', 'GR', 'RHOB', 'DT', 'MELCAL', 'SPOR']]"
   ]
  },
  {
   "cell_type": "markdown",
   "metadata": {},
   "source": [
    "### 4) Missing Data"
   ]
  },
  {
   "cell_type": "code",
   "execution_count": 10,
   "metadata": {},
   "outputs": [],
   "source": [
    "df_dropped = df_selected.dropna(subset=['GR', 'DT', 'SPOR'],axis=0, how='any')"
   ]
  },
  {
   "cell_type": "markdown",
   "metadata": {},
   "source": [
    "### 5) Dropping Rows"
   ]
  },
  {
   "cell_type": "code",
   "execution_count": 9,
   "metadata": {},
   "outputs": [
    {
     "data": {
      "text/plain": [
       "CNPOR     2064\n",
       "GR          58\n",
       "RHOB      2026\n",
       "DT          51\n",
       "MELCAL    2030\n",
       "SPOR        51\n",
       "dtype: int64"
      ]
     },
     "execution_count": 9,
     "metadata": {},
     "output_type": "execute_result"
    }
   ],
   "source": [
    "df_selected.isna().sum()"
   ]
  },
  {
   "cell_type": "code",
   "execution_count": 11,
   "metadata": {},
   "outputs": [
    {
     "data": {
      "text/html": [
       "<div>\n",
       "<style scoped>\n",
       "    .dataframe tbody tr th:only-of-type {\n",
       "        vertical-align: middle;\n",
       "    }\n",
       "\n",
       "    .dataframe tbody tr th {\n",
       "        vertical-align: top;\n",
       "    }\n",
       "\n",
       "    .dataframe thead th {\n",
       "        text-align: right;\n",
       "    }\n",
       "</style>\n",
       "<table border=\"1\" class=\"dataframe\">\n",
       "  <thead>\n",
       "    <tr style=\"text-align: right;\">\n",
       "      <th></th>\n",
       "      <th>CNPOR</th>\n",
       "      <th>GR</th>\n",
       "      <th>RHOB</th>\n",
       "      <th>DT</th>\n",
       "      <th>MELCAL</th>\n",
       "      <th>SPOR</th>\n",
       "    </tr>\n",
       "    <tr>\n",
       "      <th>DEPT</th>\n",
       "      <th></th>\n",
       "      <th></th>\n",
       "      <th></th>\n",
       "      <th></th>\n",
       "      <th></th>\n",
       "      <th></th>\n",
       "    </tr>\n",
       "  </thead>\n",
       "  <tbody>\n",
       "    <tr>\n",
       "      <th>24.0</th>\n",
       "      <td>NaN</td>\n",
       "      <td>63.1037</td>\n",
       "      <td>NaN</td>\n",
       "      <td>92.7520</td>\n",
       "      <td>NaN</td>\n",
       "      <td>31.9321</td>\n",
       "    </tr>\n",
       "    <tr>\n",
       "      <th>24.5</th>\n",
       "      <td>NaN</td>\n",
       "      <td>58.2448</td>\n",
       "      <td>NaN</td>\n",
       "      <td>92.9061</td>\n",
       "      <td>NaN</td>\n",
       "      <td>32.0411</td>\n",
       "    </tr>\n",
       "    <tr>\n",
       "      <th>25.0</th>\n",
       "      <td>NaN</td>\n",
       "      <td>52.1383</td>\n",
       "      <td>NaN</td>\n",
       "      <td>92.8725</td>\n",
       "      <td>NaN</td>\n",
       "      <td>32.0173</td>\n",
       "    </tr>\n",
       "    <tr>\n",
       "      <th>25.5</th>\n",
       "      <td>NaN</td>\n",
       "      <td>50.7750</td>\n",
       "      <td>NaN</td>\n",
       "      <td>92.6159</td>\n",
       "      <td>NaN</td>\n",
       "      <td>31.8359</td>\n",
       "    </tr>\n",
       "    <tr>\n",
       "      <th>26.0</th>\n",
       "      <td>NaN</td>\n",
       "      <td>57.7431</td>\n",
       "      <td>NaN</td>\n",
       "      <td>92.2255</td>\n",
       "      <td>NaN</td>\n",
       "      <td>31.5598</td>\n",
       "    </tr>\n",
       "  </tbody>\n",
       "</table>\n",
       "</div>"
      ],
      "text/plain": [
       "      CNPOR       GR  RHOB       DT  MELCAL     SPOR\n",
       "DEPT                                                \n",
       "24.0    NaN  63.1037   NaN  92.7520     NaN  31.9321\n",
       "24.5    NaN  58.2448   NaN  92.9061     NaN  32.0411\n",
       "25.0    NaN  52.1383   NaN  92.8725     NaN  32.0173\n",
       "25.5    NaN  50.7750   NaN  92.6159     NaN  31.8359\n",
       "26.0    NaN  57.7431   NaN  92.2255     NaN  31.5598"
      ]
     },
     "execution_count": 11,
     "metadata": {},
     "output_type": "execute_result"
    }
   ],
   "source": [
    "df_dropped.head()"
   ]
  },
  {
   "cell_type": "markdown",
   "metadata": {},
   "source": [
    "### 6) Statistics"
   ]
  },
  {
   "cell_type": "code",
   "execution_count": 12,
   "metadata": {
    "scrolled": true
   },
   "outputs": [
    {
     "data": {
      "text/html": [
       "<div>\n",
       "<style scoped>\n",
       "    .dataframe tbody tr th:only-of-type {\n",
       "        vertical-align: middle;\n",
       "    }\n",
       "\n",
       "    .dataframe tbody tr th {\n",
       "        vertical-align: top;\n",
       "    }\n",
       "\n",
       "    .dataframe thead th {\n",
       "        text-align: right;\n",
       "    }\n",
       "</style>\n",
       "<table border=\"1\" class=\"dataframe\">\n",
       "  <thead>\n",
       "    <tr style=\"text-align: right;\">\n",
       "      <th></th>\n",
       "      <th>CNPOR</th>\n",
       "      <th>GR</th>\n",
       "      <th>RHOB</th>\n",
       "      <th>DT</th>\n",
       "      <th>MELCAL</th>\n",
       "      <th>SPOR</th>\n",
       "    </tr>\n",
       "  </thead>\n",
       "  <tbody>\n",
       "    <tr>\n",
       "      <th>count</th>\n",
       "      <td>4992.000000</td>\n",
       "      <td>6962.000000</td>\n",
       "      <td>5010.000000</td>\n",
       "      <td>6962.000000</td>\n",
       "      <td>5010.000000</td>\n",
       "      <td>6962.000000</td>\n",
       "    </tr>\n",
       "    <tr>\n",
       "      <th>mean</th>\n",
       "      <td>19.184611</td>\n",
       "      <td>58.035839</td>\n",
       "      <td>2.494757</td>\n",
       "      <td>82.001241</td>\n",
       "      <td>8.805313</td>\n",
       "      <td>24.329025</td>\n",
       "    </tr>\n",
       "    <tr>\n",
       "      <th>std</th>\n",
       "      <td>7.939384</td>\n",
       "      <td>29.548550</td>\n",
       "      <td>0.207499</td>\n",
       "      <td>29.147369</td>\n",
       "      <td>2.242689</td>\n",
       "      <td>20.613416</td>\n",
       "    </tr>\n",
       "    <tr>\n",
       "      <th>min</th>\n",
       "      <td>-0.087500</td>\n",
       "      <td>5.712800</td>\n",
       "      <td>1.421800</td>\n",
       "      <td>36.290500</td>\n",
       "      <td>7.148400</td>\n",
       "      <td>-7.998200</td>\n",
       "    </tr>\n",
       "    <tr>\n",
       "      <th>25%</th>\n",
       "      <td>13.698600</td>\n",
       "      <td>36.854175</td>\n",
       "      <td>2.441700</td>\n",
       "      <td>63.909100</td>\n",
       "      <td>7.773200</td>\n",
       "      <td>11.533975</td>\n",
       "    </tr>\n",
       "    <tr>\n",
       "      <th>50%</th>\n",
       "      <td>19.939850</td>\n",
       "      <td>54.724650</td>\n",
       "      <td>2.542100</td>\n",
       "      <td>74.307050</td>\n",
       "      <td>7.929500</td>\n",
       "      <td>18.887600</td>\n",
       "    </tr>\n",
       "    <tr>\n",
       "      <th>75%</th>\n",
       "      <td>24.594525</td>\n",
       "      <td>74.357100</td>\n",
       "      <td>2.617100</td>\n",
       "      <td>91.237475</td>\n",
       "      <td>8.648550</td>\n",
       "      <td>30.861000</td>\n",
       "    </tr>\n",
       "    <tr>\n",
       "      <th>max</th>\n",
       "      <td>45.596600</td>\n",
       "      <td>345.344000</td>\n",
       "      <td>2.978700</td>\n",
       "      <td>275.567300</td>\n",
       "      <td>18.451900</td>\n",
       "      <td>161.221500</td>\n",
       "    </tr>\n",
       "  </tbody>\n",
       "</table>\n",
       "</div>"
      ],
      "text/plain": [
       "             CNPOR           GR         RHOB           DT       MELCAL  \\\n",
       "count  4992.000000  6962.000000  5010.000000  6962.000000  5010.000000   \n",
       "mean     19.184611    58.035839     2.494757    82.001241     8.805313   \n",
       "std       7.939384    29.548550     0.207499    29.147369     2.242689   \n",
       "min      -0.087500     5.712800     1.421800    36.290500     7.148400   \n",
       "25%      13.698600    36.854175     2.441700    63.909100     7.773200   \n",
       "50%      19.939850    54.724650     2.542100    74.307050     7.929500   \n",
       "75%      24.594525    74.357100     2.617100    91.237475     8.648550   \n",
       "max      45.596600   345.344000     2.978700   275.567300    18.451900   \n",
       "\n",
       "              SPOR  \n",
       "count  6962.000000  \n",
       "mean     24.329025  \n",
       "std      20.613416  \n",
       "min      -7.998200  \n",
       "25%      11.533975  \n",
       "50%      18.887600  \n",
       "75%      30.861000  \n",
       "max     161.221500  "
      ]
     },
     "execution_count": 12,
     "metadata": {},
     "output_type": "execute_result"
    }
   ],
   "source": [
    "df_dropped.describe()"
   ]
  },
  {
   "cell_type": "markdown",
   "metadata": {},
   "source": [
    "### 7) Filtering"
   ]
  },
  {
   "cell_type": "markdown",
   "metadata": {},
   "source": [
    "Based of petrophysical knowledge, these logs normal range in rocks:\n",
    "\n",
    "|Log|Min|Max|\n",
    "|--|----|---|\n",
    "|CNPOR|-15|50|\n",
    "|GR|0|250|\n",
    "|RHOB|1|3|\n",
    "|DT|30|140|\n",
    "|SPOR|-10|50|\n"
   ]
  },
  {
   "cell_type": "code",
   "execution_count": 25,
   "metadata": {},
   "outputs": [],
   "source": [
    "df_filt1 = df_dropped.loc[(df_dropped.CNPOR > -15) & (df_dropped.CNPOR <= 50)]\n",
    "df_filt2 = df_filt1.loc[(df_dropped.GR > 0) & (df_dropped.GR  <= 250)]\n",
    "df_filt3 = df_filt2.loc[(df_dropped.RHOB> 1) & (df_dropped.RHOB<= 3)]\n",
    "df_filt = df_filt3.loc[(df_dropped.DT > 30) & (df_dropped.DT <= 140)]\n"
   ]
  },
  {
   "cell_type": "markdown",
   "metadata": {},
   "source": [
    "### 8) Adding Column"
   ]
  },
  {
   "cell_type": "code",
   "execution_count": 43,
   "metadata": {},
   "outputs": [],
   "source": [
    "df = df_filt.copy()"
   ]
  },
  {
   "cell_type": "code",
   "execution_count": 44,
   "metadata": {},
   "outputs": [],
   "source": [
    "df['Vsh'] = (df.GR - df.GR.min()) / (df.GR.max() - df.GR.min())"
   ]
  },
  {
   "cell_type": "code",
   "execution_count": 45,
   "metadata": {},
   "outputs": [
    {
     "data": {
      "text/html": [
       "<div>\n",
       "<style scoped>\n",
       "    .dataframe tbody tr th:only-of-type {\n",
       "        vertical-align: middle;\n",
       "    }\n",
       "\n",
       "    .dataframe tbody tr th {\n",
       "        vertical-align: top;\n",
       "    }\n",
       "\n",
       "    .dataframe thead th {\n",
       "        text-align: right;\n",
       "    }\n",
       "</style>\n",
       "<table border=\"1\" class=\"dataframe\">\n",
       "  <thead>\n",
       "    <tr style=\"text-align: right;\">\n",
       "      <th></th>\n",
       "      <th>CNPOR</th>\n",
       "      <th>GR</th>\n",
       "      <th>RHOB</th>\n",
       "      <th>DT</th>\n",
       "      <th>MELCAL</th>\n",
       "      <th>SPOR</th>\n",
       "      <th>Vsh</th>\n",
       "    </tr>\n",
       "    <tr>\n",
       "      <th>DEPT</th>\n",
       "      <th></th>\n",
       "      <th></th>\n",
       "      <th></th>\n",
       "      <th></th>\n",
       "      <th></th>\n",
       "      <th></th>\n",
       "      <th></th>\n",
       "    </tr>\n",
       "  </thead>\n",
       "  <tbody>\n",
       "    <tr>\n",
       "      <th>24.0</th>\n",
       "      <td>NaN</td>\n",
       "      <td>63.1037</td>\n",
       "      <td>NaN</td>\n",
       "      <td>92.7520</td>\n",
       "      <td>NaN</td>\n",
       "      <td>31.9321</td>\n",
       "      <td>0.168980</td>\n",
       "    </tr>\n",
       "    <tr>\n",
       "      <th>24.5</th>\n",
       "      <td>NaN</td>\n",
       "      <td>58.2448</td>\n",
       "      <td>NaN</td>\n",
       "      <td>92.9061</td>\n",
       "      <td>NaN</td>\n",
       "      <td>32.0411</td>\n",
       "      <td>0.154674</td>\n",
       "    </tr>\n",
       "  </tbody>\n",
       "</table>\n",
       "</div>"
      ],
      "text/plain": [
       "      CNPOR       GR  RHOB       DT  MELCAL     SPOR       Vsh\n",
       "DEPT                                                          \n",
       "24.0    NaN  63.1037   NaN  92.7520     NaN  31.9321  0.168980\n",
       "24.5    NaN  58.2448   NaN  92.9061     NaN  32.0411  0.154674"
      ]
     },
     "execution_count": 45,
     "metadata": {},
     "output_type": "execute_result"
    }
   ],
   "source": [
    "df.head(2)"
   ]
  },
  {
   "cell_type": "markdown",
   "metadata": {},
   "source": [
    "### 9) Indexing"
   ]
  },
  {
   "cell_type": "code",
   "execution_count": 46,
   "metadata": {},
   "outputs": [
    {
     "data": {
      "text/html": [
       "<div>\n",
       "<style scoped>\n",
       "    .dataframe tbody tr th:only-of-type {\n",
       "        vertical-align: middle;\n",
       "    }\n",
       "\n",
       "    .dataframe tbody tr th {\n",
       "        vertical-align: top;\n",
       "    }\n",
       "\n",
       "    .dataframe thead th {\n",
       "        text-align: right;\n",
       "    }\n",
       "</style>\n",
       "<table border=\"1\" class=\"dataframe\">\n",
       "  <thead>\n",
       "    <tr style=\"text-align: right;\">\n",
       "      <th></th>\n",
       "      <th>Depth</th>\n",
       "      <th>CNPOR</th>\n",
       "      <th>GR</th>\n",
       "      <th>RHOB</th>\n",
       "      <th>DT</th>\n",
       "      <th>MELCAL</th>\n",
       "      <th>SPOR</th>\n",
       "      <th>Vsh</th>\n",
       "    </tr>\n",
       "  </thead>\n",
       "  <tbody>\n",
       "    <tr>\n",
       "      <th>0</th>\n",
       "      <td>24.0</td>\n",
       "      <td>NaN</td>\n",
       "      <td>63.1037</td>\n",
       "      <td>NaN</td>\n",
       "      <td>92.7520</td>\n",
       "      <td>NaN</td>\n",
       "      <td>31.9321</td>\n",
       "      <td>0.168980</td>\n",
       "    </tr>\n",
       "    <tr>\n",
       "      <th>1</th>\n",
       "      <td>24.5</td>\n",
       "      <td>NaN</td>\n",
       "      <td>58.2448</td>\n",
       "      <td>NaN</td>\n",
       "      <td>92.9061</td>\n",
       "      <td>NaN</td>\n",
       "      <td>32.0411</td>\n",
       "      <td>0.154674</td>\n",
       "    </tr>\n",
       "    <tr>\n",
       "      <th>2</th>\n",
       "      <td>25.0</td>\n",
       "      <td>NaN</td>\n",
       "      <td>52.1383</td>\n",
       "      <td>NaN</td>\n",
       "      <td>92.8725</td>\n",
       "      <td>NaN</td>\n",
       "      <td>32.0173</td>\n",
       "      <td>0.136694</td>\n",
       "    </tr>\n",
       "    <tr>\n",
       "      <th>3</th>\n",
       "      <td>25.5</td>\n",
       "      <td>NaN</td>\n",
       "      <td>50.7750</td>\n",
       "      <td>NaN</td>\n",
       "      <td>92.6159</td>\n",
       "      <td>NaN</td>\n",
       "      <td>31.8359</td>\n",
       "      <td>0.132680</td>\n",
       "    </tr>\n",
       "    <tr>\n",
       "      <th>4</th>\n",
       "      <td>26.0</td>\n",
       "      <td>NaN</td>\n",
       "      <td>57.7431</td>\n",
       "      <td>NaN</td>\n",
       "      <td>92.2255</td>\n",
       "      <td>NaN</td>\n",
       "      <td>31.5598</td>\n",
       "      <td>0.153196</td>\n",
       "    </tr>\n",
       "  </tbody>\n",
       "</table>\n",
       "</div>"
      ],
      "text/plain": [
       "   Depth  CNPOR       GR  RHOB       DT  MELCAL     SPOR       Vsh\n",
       "0   24.0    NaN  63.1037   NaN  92.7520     NaN  31.9321  0.168980\n",
       "1   24.5    NaN  58.2448   NaN  92.9061     NaN  32.0411  0.154674\n",
       "2   25.0    NaN  52.1383   NaN  92.8725     NaN  32.0173  0.136694\n",
       "3   25.5    NaN  50.7750   NaN  92.6159     NaN  31.8359  0.132680\n",
       "4   26.0    NaN  57.7431   NaN  92.2255     NaN  31.5598  0.153196"
      ]
     },
     "execution_count": 46,
     "metadata": {},
     "output_type": "execute_result"
    }
   ],
   "source": [
    "df_idx = df.rename_axis('Depth').reset_index()\n",
    "#df.reset_index(inplace = True, drop=True)\n",
    "df_idx.head()  #"
   ]
  },
  {
   "cell_type": "code",
   "execution_count": 47,
   "metadata": {},
   "outputs": [
    {
     "data": {
      "text/html": [
       "<div>\n",
       "<style scoped>\n",
       "    .dataframe tbody tr th:only-of-type {\n",
       "        vertical-align: middle;\n",
       "    }\n",
       "\n",
       "    .dataframe tbody tr th {\n",
       "        vertical-align: top;\n",
       "    }\n",
       "\n",
       "    .dataframe thead th {\n",
       "        text-align: right;\n",
       "    }\n",
       "</style>\n",
       "<table border=\"1\" class=\"dataframe\">\n",
       "  <thead>\n",
       "    <tr style=\"text-align: right;\">\n",
       "      <th></th>\n",
       "      <th>CNPOR</th>\n",
       "      <th>GR</th>\n",
       "      <th>RHOB</th>\n",
       "      <th>DT</th>\n",
       "      <th>MELCAL</th>\n",
       "      <th>SPOR</th>\n",
       "      <th>Vsh</th>\n",
       "    </tr>\n",
       "  </thead>\n",
       "  <tbody>\n",
       "    <tr>\n",
       "      <th>count</th>\n",
       "      <td>4975.000000</td>\n",
       "      <td>6695.000000</td>\n",
       "      <td>4993.000000</td>\n",
       "      <td>6695.000000</td>\n",
       "      <td>4993.000000</td>\n",
       "      <td>6695.000000</td>\n",
       "      <td>6695.000000</td>\n",
       "    </tr>\n",
       "    <tr>\n",
       "      <th>mean</th>\n",
       "      <td>19.147193</td>\n",
       "      <td>57.911395</td>\n",
       "      <td>2.495011</td>\n",
       "      <td>77.550568</td>\n",
       "      <td>8.803699</td>\n",
       "      <td>21.181449</td>\n",
       "      <td>0.153692</td>\n",
       "    </tr>\n",
       "    <tr>\n",
       "      <th>std</th>\n",
       "      <td>7.919623</td>\n",
       "      <td>30.057569</td>\n",
       "      <td>0.207789</td>\n",
       "      <td>17.349883</td>\n",
       "      <td>2.246015</td>\n",
       "      <td>12.270073</td>\n",
       "      <td>0.088501</td>\n",
       "    </tr>\n",
       "    <tr>\n",
       "      <th>min</th>\n",
       "      <td>-0.087500</td>\n",
       "      <td>5.712800</td>\n",
       "      <td>1.421800</td>\n",
       "      <td>36.290500</td>\n",
       "      <td>7.148400</td>\n",
       "      <td>-7.998200</td>\n",
       "      <td>0.000000</td>\n",
       "    </tr>\n",
       "    <tr>\n",
       "      <th>25%</th>\n",
       "      <td>13.676450</td>\n",
       "      <td>36.282900</td>\n",
       "      <td>2.442500</td>\n",
       "      <td>63.477750</td>\n",
       "      <td>7.770500</td>\n",
       "      <td>11.228950</td>\n",
       "      <td>0.090010</td>\n",
       "    </tr>\n",
       "    <tr>\n",
       "      <th>50%</th>\n",
       "      <td>19.886100</td>\n",
       "      <td>54.042200</td>\n",
       "      <td>2.542700</td>\n",
       "      <td>73.465000</td>\n",
       "      <td>7.928300</td>\n",
       "      <td>18.292100</td>\n",
       "      <td>0.142300</td>\n",
       "    </tr>\n",
       "    <tr>\n",
       "      <th>75%</th>\n",
       "      <td>24.569350</td>\n",
       "      <td>75.001600</td>\n",
       "      <td>2.617400</td>\n",
       "      <td>88.949600</td>\n",
       "      <td>8.647300</td>\n",
       "      <td>29.243000</td>\n",
       "      <td>0.204012</td>\n",
       "    </tr>\n",
       "    <tr>\n",
       "      <th>max</th>\n",
       "      <td>45.596600</td>\n",
       "      <td>345.344000</td>\n",
       "      <td>2.978700</td>\n",
       "      <td>139.677100</td>\n",
       "      <td>18.451900</td>\n",
       "      <td>65.118200</td>\n",
       "      <td>1.000000</td>\n",
       "    </tr>\n",
       "  </tbody>\n",
       "</table>\n",
       "</div>"
      ],
      "text/plain": [
       "             CNPOR           GR         RHOB           DT       MELCAL  \\\n",
       "count  4975.000000  6695.000000  4993.000000  6695.000000  4993.000000   \n",
       "mean     19.147193    57.911395     2.495011    77.550568     8.803699   \n",
       "std       7.919623    30.057569     0.207789    17.349883     2.246015   \n",
       "min      -0.087500     5.712800     1.421800    36.290500     7.148400   \n",
       "25%      13.676450    36.282900     2.442500    63.477750     7.770500   \n",
       "50%      19.886100    54.042200     2.542700    73.465000     7.928300   \n",
       "75%      24.569350    75.001600     2.617400    88.949600     8.647300   \n",
       "max      45.596600   345.344000     2.978700   139.677100    18.451900   \n",
       "\n",
       "              SPOR          Vsh  \n",
       "count  6695.000000  6695.000000  \n",
       "mean     21.181449     0.153692  \n",
       "std      12.270073     0.088501  \n",
       "min      -7.998200     0.000000  \n",
       "25%      11.228950     0.090010  \n",
       "50%      18.292100     0.142300  \n",
       "75%      29.243000     0.204012  \n",
       "max      65.118200     1.000000  "
      ]
     },
     "execution_count": 47,
     "metadata": {},
     "output_type": "execute_result"
    }
   ],
   "source": [
    "df.describe()"
   ]
  },
  {
   "cell_type": "markdown",
   "metadata": {},
   "source": [
    "### 10) Plotting"
   ]
  },
  {
   "cell_type": "code",
   "execution_count": 31,
   "metadata": {},
   "outputs": [],
   "source": [
    "import matplotlib.pyplot as plt\n",
    "from mpl_toolkits.axes_grid1 import make_axes_locatable\n",
    "import matplotlib.colors as colors\n",
    "import matplotlib as mpl"
   ]
  },
  {
   "cell_type": "code",
   "execution_count": 32,
   "metadata": {},
   "outputs": [],
   "source": [
    "def log_plot(logs):\n",
    "    logs = logs.sort_values(by='Depth')\n",
    "    top = logs.Depth.min()\n",
    "    bot = logs.Depth.max()\n",
    "    \n",
    "    f, ax = plt.subplots(nrows=1, ncols=6, figsize=(12,8))\n",
    "    ax[0].plot(logs.GR, logs.Depth, color='green')\n",
    "    ax[1].plot(logs.CNPOR, logs.Depth, color='red')\n",
    "    ax[2].plot(logs.DT, logs.Depth, color='black')\n",
    "    ax[3].plot(logs.MELCAL, logs.Depth, color='blue')\n",
    "    ax[4].plot(logs.RHOB, logs.Depth, color='c')\n",
    "    ax[5].plot(logs.Vsh, logs.Depth, color='m')\n",
    "    \n",
    "    for i in range(len(ax)):\n",
    "        ax[i].set_ylim(top,bot)\n",
    "        ax[i].invert_yaxis()\n",
    "        ax[i].grid()\n",
    "        \n",
    "    ax[0].set_xlabel(\"GR\")\n",
    "    ax[0].set_xlim(logs.GR.min(),logs.GR.max())\n",
    "    ax[0].set_ylabel(\"Depth(ft)\")\n",
    "    ax[1].set_xlabel(\"CNPOR\")\n",
    "    ax[1].set_xlim(logs.CNPOR.min(),logs.CNPOR.max())\n",
    "    ax[2].set_xlabel(\"DT\")\n",
    "    ax[2].set_xlim(logs.DT.min(),logs.DT.max())\n",
    "    ax[3].set_xlabel(\"MELCAL\")\n",
    "    ax[3].set_xlim(logs.MELCAL.min(),logs.MELCAL.max())\n",
    "    ax[4].set_xlabel(\"RHOB\")\n",
    "    ax[4].set_xlim(logs.RHOB.min(),logs.RHOB.max())\n",
    "    ax[5].set_xlabel(\"Vsh\")\n",
    "    ax[5].set_xlim(logs.Vsh.min(),logs.Vsh.max())\n",
    "    \n",
    "    ax[1].set_yticklabels([]); ax[2].set_yticklabels([]); ax[3].set_yticklabels([])\n",
    "    ax[4].set_yticklabels([]); ax[5].set_yticklabels([]) \n",
    "    \n",
    "    f.suptitle('Well:KOOCHEL MOUNTAIN #1', fontsize=14,y=0.94)"
   ]
  },
  {
   "cell_type": "code",
   "execution_count": 37,
   "metadata": {},
   "outputs": [
    {
     "data": {
      "image/png": "[encoded data removed]",
      "text/plain": [
       "<Figure size 864x576 with 6 Axes>"
      ]
     },
     "metadata": {
      "needs_background": "light"
     },
     "output_type": "display_data"
    }
   ],
   "source": [
    "log_plot(df_idx)\n",
    "#plt.savefig('well_plot1.png', dpi=400)"
   ]
  },
  {
   "cell_type": "code",
   "execution_count": null,
   "metadata": {},
   "outputs": [],
   "source": []
  }
 ],
 "metadata": {
  "kernelspec": {
   "display_name": "Python 3.7 (tensorflow)",
   "language": "python",
   "name": "tensorflow"
  },
  "language_info": {
   "codemirror_mode": {
    "name": "ipython",
    "version": 3
   },
   "file_extension": ".py",
   "mimetype": "text/x-python",
   "name": "python",
   "nbconvert_exporter": "python",
   "pygments_lexer": "ipython3",
   "version": "3.7.6"
  },
  "varInspector": {
   "cols": {
    "lenName": 16,
    "lenType": 16,
    "lenVar": 40
   },
   "kernels_config": {
    "python": {
     "delete_cmd_postfix": "",
     "delete_cmd_prefix": "del ",
     "library": "var_list.py",
     "varRefreshCmd": "print(var_dic_list())"
    },
    "r": {
     "delete_cmd_postfix": ") ",
     "delete_cmd_prefix": "rm(",
     "library": "var_list.r",
     "varRefreshCmd": "cat(var_dic_list()) "
    }
   },
   "types_to_exclude": [
    "module",
    "function",
    "builtin_function_or_method",
    "instance",
    "_Feature"
   ],
   "window_display": false
  }
 },
 "nbformat": 4,
 "nbformat_minor": 4
}
